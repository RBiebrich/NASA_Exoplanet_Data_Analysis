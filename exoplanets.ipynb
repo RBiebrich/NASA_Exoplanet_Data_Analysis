{
 "cells": [
  {
   "cell_type": "markdown",
   "metadata": {},
   "source": [
    "# NASA Exoplanet Data Analysis\n",
    "### CMPS530 | Final Project | Robert Biebrich | 2023"
   ]
  },
  {
   "cell_type": "markdown",
   "metadata": {},
   "source": [
    "## Introduction:\n",
    "One of the most astounding discoveries of the last century was the realization that we are not alone! It's not that we found aliens (yet), or that aliens found us (yet). Rather, we have discovered alien worlds. These planets, orbiting stars other than our own local Sun, are called exoplanets and, through the incredible developments science and engineering such as the Hubble and James Webb Space Telescopes, the Kepler and TESS Spacecrafts, we have catalogged thousands."
   ]
  },
  {
   "cell_type": "code",
   "execution_count": 1,
   "metadata": {},
   "outputs": [],
   "source": [
    "# Import modules\n",
    "import pandas as pd\n",
    "import numpy as np\n",
    "import matplotlib.pyplot as plt\n",
    "import seaborn as sns"
   ]
  },
  {
   "cell_type": "code",
   "execution_count": 6,
   "metadata": {},
   "outputs": [],
   "source": [
    "# Importing the data as a Pandas DataFrame\n",
    "raw_data = pd.read_csv('NASA-Exoplanet-Archive.csv')\n",
    "\n",
    "# Cleaning the raw data to take first instance of each planet only\n",
    "data = pd.DataFrame(raw_data.groupby('pl_name').first()).reset_index()"
   ]
  }
 ],
 "metadata": {
  "kernelspec": {
   "display_name": "cmps530",
   "language": "python",
   "name": "python3"
  },
  "language_info": {
   "codemirror_mode": {
    "name": "ipython",
    "version": 3
   },
   "file_extension": ".py",
   "mimetype": "text/x-python",
   "name": "python",
   "nbconvert_exporter": "python",
   "pygments_lexer": "ipython3",
   "version": "3.9.18"
  }
 },
 "nbformat": 4,
 "nbformat_minor": 2
}
